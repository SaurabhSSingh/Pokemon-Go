{
 "cells": [
  {
   "cell_type": "code",
   "execution_count": 174,
   "metadata": {
    "collapsed": true
   },
   "outputs": [],
   "source": [
    "from lxml import html\n",
    "import os\n",
    "import json\n",
    "import datetime\n"
   ]
  },
  {
   "cell_type": "code",
   "execution_count": 212,
   "metadata": {
    "collapsed": true
   },
   "outputs": [],
   "source": [
    "inx = 0\n",
    "final_d = {}\n",
    "list_d = []\n",
    "andr_list = []\n",
    "d_key = []"
   ]
  },
  {
   "cell_type": "code",
   "execution_count": 127,
   "metadata": {},
   "outputs": [],
   "source": [
    "def get_filename():\n",
    "    folder = os.walk('/Data_science/project2/pokemon_5378/data').next()[1]\n",
    "    ios = []\n",
    "    andr = []\n",
    "    sub_id = []\n",
    "    for sub in folder:\n",
    "        sub_id.append(sub)\n",
    "        in_folder = os.walk('/Data_science/project2/pokemon_5378/data/{}'.format(sub)).next()[2]\n",
    "        xyz = []\n",
    "        abc = []\n",
    "        count = 0\n",
    "        for file_id in in_folder:\n",
    "            if count % 2 != 0:\n",
    "                xyz.append(file_id)\n",
    "                count = count + 1\n",
    "            else:\n",
    "                abc.append(file_id)\n",
    "                count = count + 1\n",
    "        ios = ios + xyz\n",
    "        andr = andr + abc\n",
    "    return sub_id, ios, andr\n"
   ]
  },
  {
   "cell_type": "code",
   "execution_count": 128,
   "metadata": {
    "collapsed": true
   },
   "outputs": [],
   "source": [
    "def get_dtTime(fldr_id):\n",
    "    format = '%Y-%m-%d %H:%M:%S'\n",
    "    for sub_name in fldr_id:\n",
    "        string_date = sub_name\n",
    "        in_sub = os.walk('/Data_science/project2/pokemon_5378/data/{}'.format(sub_name)).next()[2]\n",
    "        count = 0\n",
    "        for id0 in in_sub:\n",
    "            if count % 2 != 0:\n",
    "                fil_name0 = id0\n",
    "                win = fil_name0.split('_')\n",
    "                #win\n",
    "                file_time = win[0] + ':' + win[1] + ':' + '00'\n",
    "                #file_time\n",
    "                dt_time0 = string_date + ' ' + file_time\n",
    "                #dt_time0\n",
    "                date=datetime.datetime.strptime(dt_time0, format)\n",
    "                #date\n",
    "                d_key.append(date)\n",
    "                count = count + 1\n",
    "            else:\n",
    "                count = count + 1\n",
    "            "
   ]
  },
  {
   "cell_type": "code",
   "execution_count": 197,
   "metadata": {},
   "outputs": [],
   "source": [
    "new = get_filename()"
   ]
  },
  {
   "cell_type": "code",
   "execution_count": 198,
   "metadata": {},
   "outputs": [],
   "source": [
    "sub_fldr = new[0]\n",
    "ios_er = new[1]\n",
    "andr_er = new[2]"
   ]
  },
  {
   "cell_type": "code",
   "execution_count": 199,
   "metadata": {
    "collapsed": true
   },
   "outputs": [],
   "source": [
    "#error correction to counter os.walk reading error\n",
    "#total 14 files in error\n",
    "err = [6384, 6387, 6389, 6392, 6393, 6402, 6404, 6407, 6430, 6444, 6486, 6535, 6577, 6619]\n",
    "for er in err:\n",
    "    del ios_er[er]\n",
    "    del andr_er[er]"
   ]
  },
  {
   "cell_type": "code",
   "execution_count": 200,
   "metadata": {
    "collapsed": true
   },
   "outputs": [],
   "source": [
    "ios_er1 = ios_er\n",
    "andr_er1 = andr_er"
   ]
  },
  {
   "cell_type": "code",
   "execution_count": 188,
   "metadata": {},
   "outputs": [],
   "source": [
    "get_dtTime(new[0])"
   ]
  },
  {
   "cell_type": "code",
   "execution_count": 189,
   "metadata": {
    "collapsed": true
   },
   "outputs": [],
   "source": [
    "#removing corresponding datetime object keys\n",
    "for er in err:\n",
    "    del d_key[er]"
   ]
  },
  {
   "cell_type": "code",
   "execution_count": 33,
   "metadata": {
    "collapsed": true
   },
   "outputs": [],
   "source": [
    "def value(supply):\n",
    "    x = supply[0]\n",
    "    x1 = x.split()\n",
    "    return x1[0]"
   ]
  },
  {
   "cell_type": "code",
   "execution_count": 205,
   "metadata": {
    "collapsed": true
   },
   "outputs": [],
   "source": [
    "inx = 6336\n",
    "list_d = []"
   ]
  },
  {
   "cell_type": "code",
   "execution_count": 173,
   "metadata": {},
   "outputs": [],
   "source": [
    "\n",
    "def ios_retrieve(ios_path, ios_sub):\n",
    "        global inx\n",
    "        address = '/Data_science/project2/pokemon_5378/data/'\n",
    "        adr = address + ios_sub\n",
    "        for ios_html in ios_path:\n",
    "            adr2 = adr + '/' + ios_html\n",
    "            with open(adr2, \"r\") as f:\n",
    "                page = f.read()\n",
    "                tree = html.fromstring(page)\n",
    "                #get the size from HTML\n",
    "                size = tree.xpath('//*[@id=\"left-stack\"]/div[1]/ul/li[5]/text()')\n",
    "                ios_file_size = size\n",
    "                #get current rating\n",
    "                c_rating = tree.xpath('//*[@id=\"left-stack\"]/div[2]/div[2]/span[2]/text()')\n",
    "                ios_current_ratings = c_rating\n",
    "                #get all rating\n",
    "                a_rating = tree.xpath('//*[@id=\"left-stack\"]/div[2]/div[4]/span/text()')\n",
    "                ios_all_ratings = a_rating\n",
    "                #store attributes in dictonary\n",
    "                inx = inx + 1\n",
    "                temp_list = [inx, ios_current_ratings, ios_all_ratings, ios_file_size]\n",
    "                list_d.append(temp_list)\n",
    "                "
   ]
  },
  {
   "cell_type": "code",
   "execution_count": 112,
   "metadata": {},
   "outputs": [
    {
     "name": "stdout",
     "output_type": "stream",
     "text": [
      "\n"
     ]
    }
   ],
   "source": [
    "len_sub = [144, 144, 144, 144,144, 144, 144, 144, 144, 144, 144, 144,144, 144, 144, 144, 144, 144, 144,\n",
    "       144,144, 144, 144, 144, 144, 144, 144, 144,144, 144, 144, 144, 144, 144, 144, 144,144, 144,\n",
    "       144, 144, 144, 144, 144, 144, 124, 142, 144, 144, 144, 144,144, 144, 144, 144, 144, 144, 144,\n",
    "       144,144, 144, 144, 144, 144, 144, 144, 144,144, 144, 144, 144, 144, 144, 144, 144,144, 144,\n",
    "       144, 144, 144, 144, 144, 144,144, 144, 144, 144, 144, 144, 144, 144, 144, 144, 144, 144, 144,\n",
    "       144, 144, 144, 144, 144, 144, 144, 144]"
   ]
  },
  {
   "cell_type": "code",
   "execution_count": 144,
   "metadata": {},
   "outputs": [],
   "source": [
    "temp1 = sub_fldr[:44]\n",
    "temp2 = sub_fldr[44]\n",
    "temp3 = sub_fldr[45]\n",
    "temp4 = sub_fldr[46:]"
   ]
  },
  {
   "cell_type": "code",
   "execution_count": 175,
   "metadata": {},
   "outputs": [
    {
     "name": "stdout",
     "output_type": "stream",
     "text": [
      "end44 6336 6480\n"
     ]
    }
   ],
   "source": [
    "i = 0\n",
    "j = 144\n",
    "\n",
    "for folder_ios_name in temp1:\n",
    "    arg = ios_er1[i:j]\n",
    "    ios_retrieve(arg, folder_ios_name)\n",
    "    i = j\n",
    "    j = j + 144\n",
    "    #print type(folder_ios_name)\n",
    "    \n",
    "print 'end44', i, j"
   ]
  },
  {
   "cell_type": "code",
   "execution_count": 210,
   "metadata": {},
   "outputs": [],
   "source": [
    "#sotre dictonary in json fi\n",
    "with open('\\\\ios103.json', 'w') as f:\n",
    "    json.dump(list_d , f)"
   ]
  },
  {
   "cell_type": "code",
   "execution_count": 206,
   "metadata": {},
   "outputs": [],
   "source": [
    "i = 6336\n",
    "j = 6460\n",
    "arg2 = ios_er1[i:j]\n",
    "ios_retrieve(arg2, temp2)\n",
    "i = j\n",
    "j = j + 142\n",
    "arg3 = ios_er1[i:j]\n",
    "ios_retrieve(arg3, temp3)"
   ]
  },
  {
   "cell_type": "code",
   "execution_count": 208,
   "metadata": {},
   "outputs": [
    {
     "data": {
      "text/plain": [
       "6602"
      ]
     },
     "execution_count": 208,
     "metadata": {},
     "output_type": "execute_result"
    }
   ],
   "source": [
    "j\n"
   ]
  },
  {
   "cell_type": "code",
   "execution_count": 209,
   "metadata": {},
   "outputs": [
    {
     "name": "stdout",
     "output_type": "stream",
     "text": [
      "end103 14810 14954\n"
     ]
    }
   ],
   "source": [
    "i = j\n",
    "j = j + 144\n",
    "for folder_ios_name in temp4:\n",
    "    arg = ios_er1[i:j]\n",
    "    ios_retrieve(arg, folder_ios_name)\n",
    "    i = j\n",
    "    j = j + 144\n",
    "print 'end103', i, j"
   ]
  },
  {
   "cell_type": "code",
   "execution_count": 203,
   "metadata": {},
   "outputs": [
    {
     "data": {
      "text/plain": [
       "266"
      ]
     },
     "execution_count": 203,
     "metadata": {},
     "output_type": "execute_result"
    }
   ],
   "source": [
    "len(list_d)\n",
    "#len(ios_er)"
   ]
  },
  {
   "cell_type": "code",
   "execution_count": 195,
   "metadata": {},
   "outputs": [
    {
     "name": "stdout",
     "output_type": "stream",
     "text": [
      "00\n",
      "00\n",
      "00\n",
      "00\n",
      "00\n",
      "00\n",
      "01\n",
      "01\n",
      "01\n",
      "01\n",
      "01\n",
      "01\n",
      "02\n",
      "02\n",
      "02\n",
      "02\n",
      "02\n",
      "02\n",
      "03\n",
      "03\n",
      "03\n",
      "03\n",
      "03\n",
      "03\n",
      "04\n",
      "04\n",
      "04\n",
      "04\n",
      "04\n",
      "04\n",
      "05\n",
      "05\n",
      "05\n",
      "05\n",
      "05\n",
      "05\n",
      "06\n",
      "06\n",
      "06\n",
      "06\n",
      "06\n",
      "06\n",
      "07\n",
      "07\n",
      "07\n",
      "07\n",
      "07\n",
      "07\n",
      "08\n",
      "08\n",
      "08\n",
      "08\n",
      "09\n",
      "09\n",
      "09\n",
      "09\n",
      "10\n",
      "10\n",
      "10\n",
      "10\n",
      "10\n",
      "11\n",
      "11\n",
      "11\n",
      "11\n",
      "11\n",
      "12\n",
      "12\n",
      "12\n",
      "12\n",
      "12\n",
      "13\n",
      "13\n",
      "13\n",
      "13\n",
      "13\n",
      "14\n",
      "14\n",
      "14\n",
      "14\n",
      "14\n",
      "14\n",
      "15\n",
      "15\n",
      "15\n",
      "15\n",
      "15\n",
      "15\n",
      "16\n",
      "16\n",
      "16\n",
      "16\n",
      "16\n",
      "16\n",
      "17\n",
      "17\n",
      "17\n",
      "17\n",
      "17\n",
      "21\n",
      "21\n",
      "21\n",
      "21\n",
      "22\n",
      "22\n",
      "22\n",
      "22\n",
      "22\n",
      "23\n",
      "23\n",
      "23\n",
      "23\n",
      "23\n",
      "23\n",
      "00\n",
      "00\n",
      "00\n",
      "00\n",
      "00\n",
      "00\n",
      "01\n",
      "01\n",
      "01\n",
      "01\n"
     ]
    }
   ],
   "source": [
    "index = 0\n",
    "for s1 in arg2:\n",
    "    correct_m = ['18', '19', '20']\n",
    "    print s1[:2]\n",
    "    '''if s1[:2] in correct_m:\n",
    "        print s1\n",
    "        index = index + 1\n",
    "    else:\n",
    "        continue\n",
    "        \n",
    "print index'''"
   ]
  },
  {
   "cell_type": "code",
   "execution_count": 90,
   "metadata": {},
   "outputs": [
    {
     "name": "stdout",
     "output_type": "stream",
     "text": [
      "6384\n",
      "6387\n",
      "6389\n",
      "6392\n",
      "6393\n",
      "6402\n",
      "6404\n",
      "6407\n",
      "6430\n",
      "6444\n",
      "6486\n",
      "6535\n",
      "6577\n",
      "6619\n"
     ]
    }
   ],
   "source": [
    "print new[2].index('08_08_pokemon_android.html')\n",
    "print new[2].index('08_32_pokemon_android.html')\n",
    "print new[2].index('08_51_pokemon_android.html')\n",
    "print new[2].index('09_21_pokemon_android.html')\n",
    "print new[2].index('09_31_pokemon_android.html')\n",
    "print new[2].index('11_03_pokemon_android.html')\n",
    "print new[2].index('11_21_pokemon_android.html')\n",
    "print new[2].index('11_51_pokemon_android.html')\n",
    "print new[2].index('15_48_pokemon_android.html')\n",
    "print new[2].index('21_26_pokemon_android.html')\n",
    "print new[2].index('04_23_pokemon_android.html')\n",
    "print new[2].index('12_31_pokemon_android.html')\n",
    "print new[2].index('19_56_pokemon_android.html')\n",
    "print new[2].index('02_51_pokemon_android.html')"
   ]
  },
  {
   "cell_type": "code",
   "execution_count": 83,
   "metadata": {},
   "outputs": [],
   "source": [
    "for s1 in new[2]:\n",
    "    index = 0\n",
    "    correct_h = ['00','01','02','03','04','05', '06', '07', '08', '09', '10', '11', '12', '13',\n",
    "                 '14', '15', '16', '17', '18', '19', '20', '21', '22', '23']\n",
    "    if s1[:2] in correct_h:\n",
    "        continue\n",
    "    else:\n",
    "        print s1\n",
    "        index = index + 1"
   ]
  },
  {
   "cell_type": "code",
   "execution_count": 93,
   "metadata": {},
   "outputs": [
    {
     "data": {
      "text/plain": [
       "'11_21_pokemon_ios.html'"
      ]
     },
     "execution_count": 93,
     "metadata": {},
     "output_type": "execute_result"
    }
   ],
   "source": [
    "new[1][6404]"
   ]
  },
  {
   "cell_type": "code",
   "execution_count": 107,
   "metadata": {},
   "outputs": [
    {
     "name": "stdout",
     "output_type": "stream",
     "text": [
      "14796 14796\n"
     ]
    },
    {
     "data": {
      "text/plain": [
       "14810"
      ]
     },
     "execution_count": 107,
     "metadata": {},
     "output_type": "execute_result"
    }
   ],
   "source": [
    "print len(d_key), len(ios_er)\n",
    "len(ios_er) + 14\n",
    "#d_key[6577]"
   ]
  },
  {
   "cell_type": "code",
   "execution_count": 139,
   "metadata": {},
   "outputs": [
    {
     "data": {
      "text/plain": [
       "103"
      ]
     },
     "execution_count": 139,
     "metadata": {},
     "output_type": "execute_result"
    }
   ],
   "source": [
    "103-46\n",
    "57+44+2"
   ]
  },
  {
   "cell_type": "code",
   "execution_count": 164,
   "metadata": {},
   "outputs": [
    {
     "name": "stdout",
     "output_type": "stream",
     "text": [
      "0\n"
     ]
    }
   ],
   "source": [
    "print inx"
   ]
  },
  {
   "cell_type": "code",
   "execution_count": 190,
   "metadata": {},
   "outputs": [
    {
     "data": {
      "text/plain": [
       "14796"
      ]
     },
     "execution_count": 190,
     "metadata": {},
     "output_type": "execute_result"
    }
   ],
   "source": [
    "len(d_key)"
   ]
  },
  {
   "cell_type": "code",
   "execution_count": 26,
   "metadata": {},
   "outputs": [
    {
     "name": "stdout",
     "output_type": "stream",
     "text": [
      "14810\n",
      "14810\n",
      "2016-07-21 00:00:00\n"
     ]
    },
    {
     "data": {
      "text/plain": [
       "{datetime.datetime(2016, 10, 31, 23, 50): 'value'}"
      ]
     },
     "execution_count": 26,
     "metadata": {},
     "output_type": "execute_result"
    }
   ],
   "source": [
    "print len(d_key)\n",
    "print len(new[2])\n",
    "print d_key[0]\n",
    "fin = {d_key[14809]: 'value'}\n",
    "fin"
   ]
  }
 ],
 "metadata": {
  "anaconda-cloud": {},
  "kernelspec": {
   "display_name": "Python 3",
   "language": "python",
   "name": "python3"
  },
  "language_info": {
   "codemirror_mode": {
    "name": "ipython",
    "version": 3
   },
   "file_extension": ".py",
   "mimetype": "text/x-python",
   "name": "python",
   "nbconvert_exporter": "python",
   "pygments_lexer": "ipython3",
   "version": "3.6.3"
  }
 },
 "nbformat": 4,
 "nbformat_minor": 1
}
